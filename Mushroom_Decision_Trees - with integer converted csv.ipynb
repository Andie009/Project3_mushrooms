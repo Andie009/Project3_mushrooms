{
 "cells": [
  {
   "cell_type": "code",
   "execution_count": 1,
   "metadata": {},
   "outputs": [],
   "source": [
    "import pandas as pd\n",
    "import numpy as np\n",
    "import matplotlib.pyplot as plt\n",
    "%matplotlib inline"
   ]
  },
  {
   "cell_type": "code",
   "execution_count": 2,
   "metadata": {},
   "outputs": [
    {
     "output_type": "execute_result",
     "data": {
      "text/plain": [
       "  class  cap-shape  cap-surface  cap-color  bruises  odor  gill-attachment  \\\n",
       "0     p          6            3          5        2     7                2   \n",
       "1     e          6            3         10        2     1                2   \n",
       "2     e          1            3          9        2     4                2   \n",
       "3     p          6            4          9        2     7                2   \n",
       "4     e          6            3          4        1     6                2   \n",
       "\n",
       "   gill-spacing  gill-size  gill-color  ...  stalk-surface-below-ring  \\\n",
       "0             1          2           5  ...                         3   \n",
       "1             1          1           5  ...                         3   \n",
       "2             1          1           6  ...                         3   \n",
       "3             1          2           6  ...                         3   \n",
       "4             2          1           5  ...                         3   \n",
       "\n",
       "   stalk-color-above-ring  stalk-color-below-ring  veil-type  veil-color  \\\n",
       "0                       8                       8          1           3   \n",
       "1                       8                       8          1           3   \n",
       "2                       8                       8          1           3   \n",
       "3                       8                       8          1           3   \n",
       "4                       8                       8          1           3   \n",
       "\n",
       "   ring-number  ring-type  spore-print-color  population  habitat  \n",
       "0            1          5                  3           4        6  \n",
       "1            1          5                  4           3        2  \n",
       "2            1          5                  4           3        4  \n",
       "3            1          5                  3           4        6  \n",
       "4            1          1                  4           1        2  \n",
       "\n",
       "[5 rows x 23 columns]"
      ],
      "text/html": "<div>\n<style scoped>\n    .dataframe tbody tr th:only-of-type {\n        vertical-align: middle;\n    }\n\n    .dataframe tbody tr th {\n        vertical-align: top;\n    }\n\n    .dataframe thead th {\n        text-align: right;\n    }\n</style>\n<table border=\"1\" class=\"dataframe\">\n  <thead>\n    <tr style=\"text-align: right;\">\n      <th></th>\n      <th>class</th>\n      <th>cap-shape</th>\n      <th>cap-surface</th>\n      <th>cap-color</th>\n      <th>bruises</th>\n      <th>odor</th>\n      <th>gill-attachment</th>\n      <th>gill-spacing</th>\n      <th>gill-size</th>\n      <th>gill-color</th>\n      <th>...</th>\n      <th>stalk-surface-below-ring</th>\n      <th>stalk-color-above-ring</th>\n      <th>stalk-color-below-ring</th>\n      <th>veil-type</th>\n      <th>veil-color</th>\n      <th>ring-number</th>\n      <th>ring-type</th>\n      <th>spore-print-color</th>\n      <th>population</th>\n      <th>habitat</th>\n    </tr>\n  </thead>\n  <tbody>\n    <tr>\n      <th>0</th>\n      <td>p</td>\n      <td>6</td>\n      <td>3</td>\n      <td>5</td>\n      <td>2</td>\n      <td>7</td>\n      <td>2</td>\n      <td>1</td>\n      <td>2</td>\n      <td>5</td>\n      <td>...</td>\n      <td>3</td>\n      <td>8</td>\n      <td>8</td>\n      <td>1</td>\n      <td>3</td>\n      <td>1</td>\n      <td>5</td>\n      <td>3</td>\n      <td>4</td>\n      <td>6</td>\n    </tr>\n    <tr>\n      <th>1</th>\n      <td>e</td>\n      <td>6</td>\n      <td>3</td>\n      <td>10</td>\n      <td>2</td>\n      <td>1</td>\n      <td>2</td>\n      <td>1</td>\n      <td>1</td>\n      <td>5</td>\n      <td>...</td>\n      <td>3</td>\n      <td>8</td>\n      <td>8</td>\n      <td>1</td>\n      <td>3</td>\n      <td>1</td>\n      <td>5</td>\n      <td>4</td>\n      <td>3</td>\n      <td>2</td>\n    </tr>\n    <tr>\n      <th>2</th>\n      <td>e</td>\n      <td>1</td>\n      <td>3</td>\n      <td>9</td>\n      <td>2</td>\n      <td>4</td>\n      <td>2</td>\n      <td>1</td>\n      <td>1</td>\n      <td>6</td>\n      <td>...</td>\n      <td>3</td>\n      <td>8</td>\n      <td>8</td>\n      <td>1</td>\n      <td>3</td>\n      <td>1</td>\n      <td>5</td>\n      <td>4</td>\n      <td>3</td>\n      <td>4</td>\n    </tr>\n    <tr>\n      <th>3</th>\n      <td>p</td>\n      <td>6</td>\n      <td>4</td>\n      <td>9</td>\n      <td>2</td>\n      <td>7</td>\n      <td>2</td>\n      <td>1</td>\n      <td>2</td>\n      <td>6</td>\n      <td>...</td>\n      <td>3</td>\n      <td>8</td>\n      <td>8</td>\n      <td>1</td>\n      <td>3</td>\n      <td>1</td>\n      <td>5</td>\n      <td>3</td>\n      <td>4</td>\n      <td>6</td>\n    </tr>\n    <tr>\n      <th>4</th>\n      <td>e</td>\n      <td>6</td>\n      <td>3</td>\n      <td>4</td>\n      <td>1</td>\n      <td>6</td>\n      <td>2</td>\n      <td>2</td>\n      <td>1</td>\n      <td>5</td>\n      <td>...</td>\n      <td>3</td>\n      <td>8</td>\n      <td>8</td>\n      <td>1</td>\n      <td>3</td>\n      <td>1</td>\n      <td>1</td>\n      <td>4</td>\n      <td>1</td>\n      <td>2</td>\n    </tr>\n  </tbody>\n</table>\n<p>5 rows × 23 columns</p>\n</div>"
     },
     "metadata": {},
     "execution_count": 2
    }
   ],
   "source": [
    "# Load the mushroom Dataset\n",
    "dataset = pd.read_csv(os.path.join(\"mushrooms_converted.csv\"))\n",
    "dataset.head()"
   ]
  },
  {
   "cell_type": "code",
   "execution_count": 3,
   "metadata": {},
   "outputs": [
    {
     "output_type": "execute_result",
     "data": {
      "text/plain": [
       "         cap-shape  cap-surface    cap-color      bruises         odor  \\\n",
       "count  8124.000000  8124.000000  8124.000000  8124.000000  8124.000000   \n",
       "mean      4.348104     2.827671     5.504677     1.415559     5.144756   \n",
       "std       1.604329     1.229873     2.545821     0.492848     2.103729   \n",
       "min       1.000000     1.000000     1.000000     1.000000     1.000000   \n",
       "25%       3.000000     1.000000     4.000000     1.000000     3.000000   \n",
       "50%       4.000000     3.000000     5.000000     1.000000     6.000000   \n",
       "75%       6.000000     4.000000     9.000000     2.000000     6.000000   \n",
       "max       6.000000     4.000000    10.000000     2.000000     9.000000   \n",
       "\n",
       "       gill-attachment  gill-spacing    gill-size   gill-color  stalk-shape  \\\n",
       "count      8124.000000   8124.000000  8124.000000  8124.000000  8124.000000   \n",
       "mean          1.974151      1.161497     1.309207     5.810684     1.567208   \n",
       "std           0.158695      0.368011     0.462195     3.540359     0.495493   \n",
       "min           1.000000      1.000000     1.000000     1.000000     1.000000   \n",
       "25%           2.000000      1.000000     1.000000     3.000000     1.000000   \n",
       "50%           2.000000      1.000000     1.000000     6.000000     2.000000   \n",
       "75%           2.000000      1.000000     2.000000     8.000000     2.000000   \n",
       "max           2.000000      2.000000     2.000000    12.000000     2.000000   \n",
       "\n",
       "       ...  stalk-surface-below-ring  stalk-color-above-ring  \\\n",
       "count  ...               8124.000000             8124.000000   \n",
       "mean   ...                  2.603644                6.816347   \n",
       "std    ...                  0.675974                1.901747   \n",
       "min    ...                  1.000000                1.000000   \n",
       "25%    ...                  2.000000                7.000000   \n",
       "50%    ...                  3.000000                8.000000   \n",
       "75%    ...                  3.000000                8.000000   \n",
       "max    ...                  4.000000                9.000000   \n",
       "\n",
       "       stalk-color-below-ring  veil-type   veil-color  ring-number  \\\n",
       "count             8124.000000     8124.0  8124.000000  8124.000000   \n",
       "mean                 6.794682        1.0     2.965534     1.082718   \n",
       "std                  1.907291        0.0     0.242669     0.291116   \n",
       "min                  1.000000        1.0     1.000000     1.000000   \n",
       "25%                  7.000000        1.0     3.000000     1.000000   \n",
       "50%                  8.000000        1.0     3.000000     1.000000   \n",
       "75%                  8.000000        1.0     3.000000     1.000000   \n",
       "max                  9.000000        1.0     4.000000     3.000000   \n",
       "\n",
       "         ring-type  spore-print-color   population      habitat  \n",
       "count  8124.000000        8124.000000  8124.000000  8124.000000  \n",
       "mean      3.291974           4.596750     4.644018     2.508616  \n",
       "std       1.801672           2.382663     1.252082     1.719975  \n",
       "min       1.000000           1.000000     1.000000     1.000000  \n",
       "25%       1.000000           3.000000     4.000000     1.000000  \n",
       "50%       3.000000           4.000000     5.000000     2.000000  \n",
       "75%       5.000000           8.000000     5.000000     3.000000  \n",
       "max       5.000000           9.000000     6.000000     7.000000  \n",
       "\n",
       "[8 rows x 22 columns]"
      ],
      "text/html": "<div>\n<style scoped>\n    .dataframe tbody tr th:only-of-type {\n        vertical-align: middle;\n    }\n\n    .dataframe tbody tr th {\n        vertical-align: top;\n    }\n\n    .dataframe thead th {\n        text-align: right;\n    }\n</style>\n<table border=\"1\" class=\"dataframe\">\n  <thead>\n    <tr style=\"text-align: right;\">\n      <th></th>\n      <th>cap-shape</th>\n      <th>cap-surface</th>\n      <th>cap-color</th>\n      <th>bruises</th>\n      <th>odor</th>\n      <th>gill-attachment</th>\n      <th>gill-spacing</th>\n      <th>gill-size</th>\n      <th>gill-color</th>\n      <th>stalk-shape</th>\n      <th>...</th>\n      <th>stalk-surface-below-ring</th>\n      <th>stalk-color-above-ring</th>\n      <th>stalk-color-below-ring</th>\n      <th>veil-type</th>\n      <th>veil-color</th>\n      <th>ring-number</th>\n      <th>ring-type</th>\n      <th>spore-print-color</th>\n      <th>population</th>\n      <th>habitat</th>\n    </tr>\n  </thead>\n  <tbody>\n    <tr>\n      <th>count</th>\n      <td>8124.000000</td>\n      <td>8124.000000</td>\n      <td>8124.000000</td>\n      <td>8124.000000</td>\n      <td>8124.000000</td>\n      <td>8124.000000</td>\n      <td>8124.000000</td>\n      <td>8124.000000</td>\n      <td>8124.000000</td>\n      <td>8124.000000</td>\n      <td>...</td>\n      <td>8124.000000</td>\n      <td>8124.000000</td>\n      <td>8124.000000</td>\n      <td>8124.0</td>\n      <td>8124.000000</td>\n      <td>8124.000000</td>\n      <td>8124.000000</td>\n      <td>8124.000000</td>\n      <td>8124.000000</td>\n      <td>8124.000000</td>\n    </tr>\n    <tr>\n      <th>mean</th>\n      <td>4.348104</td>\n      <td>2.827671</td>\n      <td>5.504677</td>\n      <td>1.415559</td>\n      <td>5.144756</td>\n      <td>1.974151</td>\n      <td>1.161497</td>\n      <td>1.309207</td>\n      <td>5.810684</td>\n      <td>1.567208</td>\n      <td>...</td>\n      <td>2.603644</td>\n      <td>6.816347</td>\n      <td>6.794682</td>\n      <td>1.0</td>\n      <td>2.965534</td>\n      <td>1.082718</td>\n      <td>3.291974</td>\n      <td>4.596750</td>\n      <td>4.644018</td>\n      <td>2.508616</td>\n    </tr>\n    <tr>\n      <th>std</th>\n      <td>1.604329</td>\n      <td>1.229873</td>\n      <td>2.545821</td>\n      <td>0.492848</td>\n      <td>2.103729</td>\n      <td>0.158695</td>\n      <td>0.368011</td>\n      <td>0.462195</td>\n      <td>3.540359</td>\n      <td>0.495493</td>\n      <td>...</td>\n      <td>0.675974</td>\n      <td>1.901747</td>\n      <td>1.907291</td>\n      <td>0.0</td>\n      <td>0.242669</td>\n      <td>0.291116</td>\n      <td>1.801672</td>\n      <td>2.382663</td>\n      <td>1.252082</td>\n      <td>1.719975</td>\n    </tr>\n    <tr>\n      <th>min</th>\n      <td>1.000000</td>\n      <td>1.000000</td>\n      <td>1.000000</td>\n      <td>1.000000</td>\n      <td>1.000000</td>\n      <td>1.000000</td>\n      <td>1.000000</td>\n      <td>1.000000</td>\n      <td>1.000000</td>\n      <td>1.000000</td>\n      <td>...</td>\n      <td>1.000000</td>\n      <td>1.000000</td>\n      <td>1.000000</td>\n      <td>1.0</td>\n      <td>1.000000</td>\n      <td>1.000000</td>\n      <td>1.000000</td>\n      <td>1.000000</td>\n      <td>1.000000</td>\n      <td>1.000000</td>\n    </tr>\n    <tr>\n      <th>25%</th>\n      <td>3.000000</td>\n      <td>1.000000</td>\n      <td>4.000000</td>\n      <td>1.000000</td>\n      <td>3.000000</td>\n      <td>2.000000</td>\n      <td>1.000000</td>\n      <td>1.000000</td>\n      <td>3.000000</td>\n      <td>1.000000</td>\n      <td>...</td>\n      <td>2.000000</td>\n      <td>7.000000</td>\n      <td>7.000000</td>\n      <td>1.0</td>\n      <td>3.000000</td>\n      <td>1.000000</td>\n      <td>1.000000</td>\n      <td>3.000000</td>\n      <td>4.000000</td>\n      <td>1.000000</td>\n    </tr>\n    <tr>\n      <th>50%</th>\n      <td>4.000000</td>\n      <td>3.000000</td>\n      <td>5.000000</td>\n      <td>1.000000</td>\n      <td>6.000000</td>\n      <td>2.000000</td>\n      <td>1.000000</td>\n      <td>1.000000</td>\n      <td>6.000000</td>\n      <td>2.000000</td>\n      <td>...</td>\n      <td>3.000000</td>\n      <td>8.000000</td>\n      <td>8.000000</td>\n      <td>1.0</td>\n      <td>3.000000</td>\n      <td>1.000000</td>\n      <td>3.000000</td>\n      <td>4.000000</td>\n      <td>5.000000</td>\n      <td>2.000000</td>\n    </tr>\n    <tr>\n      <th>75%</th>\n      <td>6.000000</td>\n      <td>4.000000</td>\n      <td>9.000000</td>\n      <td>2.000000</td>\n      <td>6.000000</td>\n      <td>2.000000</td>\n      <td>1.000000</td>\n      <td>2.000000</td>\n      <td>8.000000</td>\n      <td>2.000000</td>\n      <td>...</td>\n      <td>3.000000</td>\n      <td>8.000000</td>\n      <td>8.000000</td>\n      <td>1.0</td>\n      <td>3.000000</td>\n      <td>1.000000</td>\n      <td>5.000000</td>\n      <td>8.000000</td>\n      <td>5.000000</td>\n      <td>3.000000</td>\n    </tr>\n    <tr>\n      <th>max</th>\n      <td>6.000000</td>\n      <td>4.000000</td>\n      <td>10.000000</td>\n      <td>2.000000</td>\n      <td>9.000000</td>\n      <td>2.000000</td>\n      <td>2.000000</td>\n      <td>2.000000</td>\n      <td>12.000000</td>\n      <td>2.000000</td>\n      <td>...</td>\n      <td>4.000000</td>\n      <td>9.000000</td>\n      <td>9.000000</td>\n      <td>1.0</td>\n      <td>4.000000</td>\n      <td>3.000000</td>\n      <td>5.000000</td>\n      <td>9.000000</td>\n      <td>6.000000</td>\n      <td>7.000000</td>\n    </tr>\n  </tbody>\n</table>\n<p>8 rows × 22 columns</p>\n</div>"
     },
     "metadata": {},
     "execution_count": 3
    }
   ],
   "source": [
    "dataset.describe()"
   ]
  },
  {
   "cell_type": "code",
   "execution_count": 4,
   "metadata": {},
   "outputs": [
    {
     "output_type": "execute_result",
     "data": {
      "text/plain": [
       "class                       object\n",
       "cap-shape                    int64\n",
       "cap-surface                  int64\n",
       "cap-color                    int64\n",
       "bruises                      int64\n",
       "odor                         int64\n",
       "gill-attachment              int64\n",
       "gill-spacing                 int64\n",
       "gill-size                    int64\n",
       "gill-color                   int64\n",
       "stalk-shape                  int64\n",
       "stalk-root                   int64\n",
       "stalk-surface-above-ring     int64\n",
       "stalk-surface-below-ring     int64\n",
       "stalk-color-above-ring       int64\n",
       "stalk-color-below-ring       int64\n",
       "veil-type                    int64\n",
       "veil-color                   int64\n",
       "ring-number                  int64\n",
       "ring-type                    int64\n",
       "spore-print-color            int64\n",
       "population                   int64\n",
       "habitat                      int64\n",
       "dtype: object"
      ]
     },
     "metadata": {},
     "execution_count": 4
    }
   ],
   "source": [
    "dataset.dtypes"
   ]
  },
  {
   "cell_type": "code",
   "execution_count": 5,
   "metadata": {},
   "outputs": [
    {
     "output_type": "execute_result",
     "data": {
      "text/plain": [
       "  class\n",
       "0     p\n",
       "1     e\n",
       "2     e\n",
       "3     p\n",
       "4     e"
      ],
      "text/html": "<div>\n<style scoped>\n    .dataframe tbody tr th:only-of-type {\n        vertical-align: middle;\n    }\n\n    .dataframe tbody tr th {\n        vertical-align: top;\n    }\n\n    .dataframe thead th {\n        text-align: right;\n    }\n</style>\n<table border=\"1\" class=\"dataframe\">\n  <thead>\n    <tr style=\"text-align: right;\">\n      <th></th>\n      <th>class</th>\n    </tr>\n  </thead>\n  <tbody>\n    <tr>\n      <th>0</th>\n      <td>p</td>\n    </tr>\n    <tr>\n      <th>1</th>\n      <td>e</td>\n    </tr>\n    <tr>\n      <th>2</th>\n      <td>e</td>\n    </tr>\n    <tr>\n      <th>3</th>\n      <td>p</td>\n    </tr>\n    <tr>\n      <th>4</th>\n      <td>e</td>\n    </tr>\n  </tbody>\n</table>\n</div>"
     },
     "metadata": {},
     "execution_count": 5
    }
   ],
   "source": [
    "obj_dataset = dataset.select_dtypes(include=['object']).copy()\n",
    "obj_dataset.head()"
   ]
  },
  {
   "cell_type": "code",
   "execution_count": 6,
   "metadata": {},
   "outputs": [
    {
     "output_type": "stream",
     "name": "stdout",
     "text": [
      "      cap-shape  cap-surface  cap-color  bruises  odor  gill-attachment  \\\n0             6            3          5        2     7                2   \n1             6            3         10        2     1                2   \n2             1            3          9        2     4                2   \n3             6            4          9        2     7                2   \n4             6            3          4        1     6                2   \n...         ...          ...        ...      ...   ...              ...   \n8119          4            3          5        1     6                1   \n8120          6            3          5        1     6                1   \n8121          3            3          5        1     6                1   \n8122          4            4          5        1     9                2   \n8123          6            3          5        1     6                1   \n\n      gill-spacing  gill-size  gill-color  stalk-shape  ...  \\\n0                1          2           5            1  ...   \n1                1          1           5            1  ...   \n2                1          1           6            1  ...   \n3                1          2           6            1  ...   \n4                2          1           5            2  ...   \n...            ...        ...         ...          ...  ...   \n8119             1          1          12            1  ...   \n8120             1          1          12            1  ...   \n8121             1          1           6            1  ...   \n8122             1          2           1            2  ...   \n8123             1          1          12            1  ...   \n\n      stalk-surface-below-ring  stalk-color-above-ring  \\\n0                            3                       8   \n1                            3                       8   \n2                            3                       8   \n3                            3                       8   \n4                            3                       8   \n...                        ...                     ...   \n8119                         3                       6   \n8120                         3                       6   \n8121                         3                       6   \n8122                         2                       8   \n8123                         3                       6   \n\n      stalk-color-below-ring  veil-type  veil-color  ring-number  ring-type  \\\n0                          8          1           3            1          5   \n1                          8          1           3            1          5   \n2                          8          1           3            1          5   \n3                          8          1           3            1          5   \n4                          8          1           3            1          1   \n...                      ...        ...         ...          ...        ...   \n8119                       6          1           2            1          5   \n8120                       6          1           1            1          5   \n8121                       6          1           2            1          5   \n8122                       8          1           3            1          1   \n8123                       6          1           2            1          5   \n\n      spore-print-color  population  habitat  \n0                     3           4        6  \n1                     4           3        2  \n2                     4           3        4  \n3                     3           4        6  \n4                     4           1        2  \n...                 ...         ...      ...  \n8119                  1           2        3  \n8120                  1           5        3  \n8121                  1           2        3  \n8122                  8           5        3  \n8123                  5           2        3  \n\n[8124 rows x 22 columns]\n"
     ]
    }
   ],
   "source": [
    "X = dataset.drop('class', axis=1)\n",
    "print(X)\n",
    "y = dataset['class']"
   ]
  },
  {
   "cell_type": "code",
   "execution_count": 7,
   "metadata": {},
   "outputs": [],
   "source": [
    "from sklearn.model_selection import train_test_split\n",
    "X_train, X_test, y_train, y_test = train_test_split(X, y, test_size=0.2, random_state=0)"
   ]
  },
  {
   "cell_type": "code",
   "execution_count": 8,
   "metadata": {},
   "outputs": [
    {
     "output_type": "execute_result",
     "data": {
      "text/plain": [
       "DecisionTreeClassifier()"
      ]
     },
     "metadata": {},
     "execution_count": 8
    }
   ],
   "source": [
    "from sklearn.tree import DecisionTreeClassifier\n",
    "classifier = DecisionTreeClassifier()\n",
    "classifier.fit(X_train, y_train)"
   ]
  },
  {
   "cell_type": "code",
   "execution_count": 9,
   "metadata": {},
   "outputs": [
    {
     "output_type": "stream",
     "name": "stdout",
     "text": [
      "['p' 'e' 'e' ... 'p' 'e' 'e']\n"
     ]
    }
   ],
   "source": [
    "y_pred = classifier.predict(X_test)\n",
    "print(y_pred)"
   ]
  },
  {
   "cell_type": "code",
   "execution_count": 10,
   "metadata": {},
   "outputs": [
    {
     "output_type": "execute_result",
     "data": {
      "text/plain": [
       "380     p\n",
       "3641    e\n",
       "273     e\n",
       "1029    e\n",
       "684     e\n",
       "       ..\n",
       "3535    e\n",
       "1643    e\n",
       "6494    p\n",
       "6       e\n",
       "3175    e\n",
       "Name: class, Length: 1625, dtype: object"
      ]
     },
     "metadata": {},
     "execution_count": 10
    }
   ],
   "source": [
    "y_test"
   ]
  },
  {
   "cell_type": "code",
   "execution_count": 11,
   "metadata": {},
   "outputs": [
    {
     "output_type": "execute_result",
     "data": {
      "text/plain": [
       "1.0"
      ]
     },
     "metadata": {},
     "execution_count": 11
    }
   ],
   "source": [
    "from sklearn.metrics import accuracy_score\n",
    "accuracy_score(y_test, y_pred)"
   ]
  },
  {
   "cell_type": "code",
   "execution_count": 12,
   "metadata": {},
   "outputs": [
    {
     "output_type": "execute_result",
     "data": {
      "text/plain": [
       "array([0.        , 0.        , 0.00344643, 0.03019923, 0.00554527,\n",
       "       0.        , 0.        , 0.12458936, 0.34369119, 0.02394268,\n",
       "       0.06796662, 0.00403083, 0.00305202, 0.        , 0.        ,\n",
       "       0.        , 0.        , 0.01972038, 0.        , 0.18051375,\n",
       "       0.17359166, 0.01971059])"
      ]
     },
     "metadata": {},
     "execution_count": 12
    }
   ],
   "source": [
    "classifier.feature_importances_"
   ]
  },
  {
   "cell_type": "code",
   "execution_count": 13,
   "metadata": {},
   "outputs": [
    {
     "output_type": "execute_result",
     "data": {
      "text/plain": [
       "Index(['cap-shape', 'cap-surface', 'cap-color', 'bruises', 'odor',\n",
       "       'gill-attachment', 'gill-spacing', 'gill-size', 'gill-color',\n",
       "       'stalk-shape', 'stalk-root', 'stalk-surface-above-ring',\n",
       "       'stalk-surface-below-ring', 'stalk-color-above-ring',\n",
       "       'stalk-color-below-ring', 'veil-type', 'veil-color', 'ring-number',\n",
       "       'ring-type', 'spore-print-color', 'population', 'habitat'],\n",
       "      dtype='object')"
      ]
     },
     "metadata": {},
     "execution_count": 13
    }
   ],
   "source": [
    "X_train.columns"
   ]
  },
  {
   "cell_type": "code",
   "execution_count": 48,
   "metadata": {},
   "outputs": [
    {
     "output_type": "execute_result",
     "data": {
      "text/plain": [
       "[('cap-shape_b', 0.0),\n",
       " ('cap-shape_c', 0.0006145591335178146),\n",
       " ('cap-shape_f', 0.0),\n",
       " ('cap-shape_k', 0.0),\n",
       " ('cap-shape_s', 0.0),\n",
       " ('cap-shape_x', 0.0),\n",
       " ('cap-surface_f', 0.0),\n",
       " ('cap-surface_g', 0.002453732619571231),\n",
       " ('cap-surface_s', 0.0),\n",
       " ('cap-surface_y', 0.0),\n",
       " ('cap-color_b', 0.0),\n",
       " ('cap-color_c', 0.0),\n",
       " ('cap-color_e', 0.0),\n",
       " ('cap-color_g', 0.0),\n",
       " ('cap-color_n', 0.0),\n",
       " ('cap-color_p', 0.0),\n",
       " ('cap-color_r', 0.0),\n",
       " ('cap-color_u', 0.0),\n",
       " ('cap-color_w', 0.0),\n",
       " ('cap-color_y', 0.0),\n",
       " ('bruises_f', 0.0018137654642038951),\n",
       " ('bruises_t', 0.0),\n",
       " ('odor_a', 0.019509178631487815),\n",
       " ('odor_c', 0.0),\n",
       " ('odor_f', 0.0),\n",
       " ('odor_l', 0.02381695461377303),\n",
       " ('odor_m', 0.0),\n",
       " ('odor_n', 0.621805700344243),\n",
       " ('odor_p', 0.0),\n",
       " ('odor_s', 0.0),\n",
       " ('odor_y', 0.0),\n",
       " ('gill-attachment_a', 0.0),\n",
       " ('gill-attachment_f', 0.0),\n",
       " ('gill-spacing_c', 0.0),\n",
       " ('gill-spacing_w', 0.0),\n",
       " ('gill-size_b', 0.005826970770145919),\n",
       " ('gill-size_n', 0.0),\n",
       " ('gill-color_b', 0.0),\n",
       " ('gill-color_e', 0.0),\n",
       " ('gill-color_g', 0.0),\n",
       " ('gill-color_h', 0.0),\n",
       " ('gill-color_k', 0.0),\n",
       " ('gill-color_n', 0.0),\n",
       " ('gill-color_o', 0.0),\n",
       " ('gill-color_p', 0.0),\n",
       " ('gill-color_r', 0.0),\n",
       " ('gill-color_u', 0.0),\n",
       " ('gill-color_w', 0.0),\n",
       " ('gill-color_y', 0.0),\n",
       " ('stalk-shape_e', 0.0),\n",
       " ('stalk-shape_t', 0.0),\n",
       " ('stalk-root_?', 0.0),\n",
       " ('stalk-root_b', 0.0),\n",
       " ('stalk-root_c', 0.16988241081091995),\n",
       " ('stalk-root_e', 0.0),\n",
       " ('stalk-root_r', 0.0872653511175902),\n",
       " ('stalk-surface-above-ring_f', 0.0),\n",
       " ('stalk-surface-above-ring_k', 0.0),\n",
       " ('stalk-surface-above-ring_s', 0.0),\n",
       " ('stalk-surface-above-ring_y', 0.0),\n",
       " ('stalk-surface-below-ring_f', 0.0),\n",
       " ('stalk-surface-below-ring_k', 0.0),\n",
       " ('stalk-surface-below-ring_s', 0.0),\n",
       " ('stalk-surface-below-ring_y', 0.014777374812857893),\n",
       " ('stalk-color-above-ring_b', 0.0),\n",
       " ('stalk-color-above-ring_c', 0.0),\n",
       " ('stalk-color-above-ring_e', 0.0),\n",
       " ('stalk-color-above-ring_g', 0.0),\n",
       " ('stalk-color-above-ring_n', 0.0),\n",
       " ('stalk-color-above-ring_o', 0.0),\n",
       " ('stalk-color-above-ring_p', 0.0),\n",
       " ('stalk-color-above-ring_w', 0.0),\n",
       " ('stalk-color-above-ring_y', 0.0),\n",
       " ('stalk-color-below-ring_b', 0.0),\n",
       " ('stalk-color-below-ring_c', 0.0),\n",
       " ('stalk-color-below-ring_e', 0.0),\n",
       " ('stalk-color-below-ring_g', 0.0),\n",
       " ('stalk-color-below-ring_n', 0.0),\n",
       " ('stalk-color-below-ring_o', 0.0),\n",
       " ('stalk-color-below-ring_p', 0.0),\n",
       " ('stalk-color-below-ring_w', 0.0),\n",
       " ('stalk-color-below-ring_y', 0.0),\n",
       " ('veil-type_p', 0.0),\n",
       " ('veil-color_n', 0.0),\n",
       " ('veil-color_o', 0.0),\n",
       " ('veil-color_w', 0.0),\n",
       " ('veil-color_y', 0.0),\n",
       " ('ring-number_n', 0.0),\n",
       " ('ring-number_o', 0.0),\n",
       " ('ring-number_t', 0.0),\n",
       " ('ring-type_e', 0.0),\n",
       " ('ring-type_f', 0.0),\n",
       " ('ring-type_l', 0.0),\n",
       " ('ring-type_n', 0.0),\n",
       " ('ring-type_p', 0.0),\n",
       " ('spore-print-color_b', 0.0),\n",
       " ('spore-print-color_h', 0.0),\n",
       " ('spore-print-color_k', 0.0),\n",
       " ('spore-print-color_n', 0.0),\n",
       " ('spore-print-color_o', 0.0),\n",
       " ('spore-print-color_r', 0.03452683035277294),\n",
       " ('spore-print-color_u', 0.0),\n",
       " ('spore-print-color_w', 0.01770717132891632),\n",
       " ('spore-print-color_y', 0.0),\n",
       " ('population_a', 0.0),\n",
       " ('population_c', 0.0),\n",
       " ('population_n', 0.0),\n",
       " ('population_s', 0.0),\n",
       " ('population_v', 0.0),\n",
       " ('population_y', 0.0),\n",
       " ('habitat_d', 0.0),\n",
       " ('habitat_g', 0.0),\n",
       " ('habitat_l', 0.0),\n",
       " ('habitat_m', 0.0),\n",
       " ('habitat_p', 0.0),\n",
       " ('habitat_u', 0.0),\n",
       " ('habitat_w', 0.0)]"
      ]
     },
     "metadata": {},
     "execution_count": 48
    }
   ],
   "source": [
    "zipped = zip(X_train.columns, classifier.feature_importances_)\n",
    "list(zipped)"
   ]
  },
  {
   "cell_type": "code",
   "execution_count": 14,
   "metadata": {},
   "outputs": [
    {
     "output_type": "error",
     "ename": "NameError",
     "evalue": "name 'tree' is not defined",
     "traceback": [
      "\u001b[1;31m---------------------------------------------------------------------------\u001b[0m",
      "\u001b[1;31mNameError\u001b[0m                                 Traceback (most recent call last)",
      "\u001b[1;32m<ipython-input-14-7dfdc0ef9785>\u001b[0m in \u001b[0;36m<module>\u001b[1;34m\u001b[0m\n\u001b[0;32m      4\u001b[0m \u001b[1;31m#                    class_names=dataset.y_train,\u001b[0m\u001b[1;33m\u001b[0m\u001b[1;33m\u001b[0m\u001b[1;33m\u001b[0m\u001b[0m\n\u001b[0;32m      5\u001b[0m \u001b[1;31m#                    filled=True)\u001b[0m\u001b[1;33m\u001b[0m\u001b[1;33m\u001b[0m\u001b[1;33m\u001b[0m\u001b[0m\n\u001b[1;32m----> 6\u001b[1;33m \u001b[0m_\u001b[0m\u001b[1;33m=\u001b[0m\u001b[0mtree\u001b[0m\u001b[1;33m.\u001b[0m\u001b[0mplot_tree\u001b[0m\u001b[1;33m(\u001b[0m\u001b[0mclassifier\u001b[0m\u001b[1;33m,\u001b[0m \u001b[0mfeature_names\u001b[0m\u001b[1;33m=\u001b[0m\u001b[0mX_train\u001b[0m\u001b[1;33m.\u001b[0m\u001b[0mcolumns\u001b[0m\u001b[1;33m)\u001b[0m\u001b[1;33m\u001b[0m\u001b[1;33m\u001b[0m\u001b[0m\n\u001b[0m",
      "\u001b[1;31mNameError\u001b[0m: name 'tree' is not defined"
     ]
    }
   ],
   "source": [
    "fig = plt.figure(figsize=(25,20))\n",
    "# _ = tree.plot_tree(classifier, \n",
    "#                    feature_names=dataset.X_train,  \n",
    "#                    class_names=dataset.y_train,\n",
    "#                    filled=True)\n",
    "_=tree.plot_tree(classifier, feature_names=X_train.columns)"
   ]
  },
  {
   "cell_type": "code",
   "execution_count": 15,
   "metadata": {},
   "outputs": [],
   "source": [
    "fig.savefig(\"decision_tree.png\")"
   ]
  },
  {
   "cell_type": "code",
   "execution_count": 16,
   "metadata": {},
   "outputs": [],
   "source": [
    "import pickle\n",
    "pickle.dump(classifier,open('model.pkl','wb'))"
   ]
  },
  {
   "cell_type": "code",
   "execution_count": null,
   "metadata": {},
   "outputs": [],
   "source": []
  }
 ],
 "metadata": {
  "kernelspec": {
   "name": "python385jvsc74a57bd03437956481a998e42cb24024d7058073f597a4b9fcde3b5ad1badeb773c8ae75",
   "display_name": "Python 3.8.5 64-bit ('base': conda)"
  },
  "language_info": {
   "codemirror_mode": {
    "name": "ipython",
    "version": 3
   },
   "file_extension": ".py",
   "mimetype": "text/x-python",
   "name": "python",
   "nbconvert_exporter": "python",
   "pygments_lexer": "ipython3",
   "version": "3.8.5"
  },
  "varInspector": {
   "cols": {
    "lenName": 16,
    "lenType": 16,
    "lenVar": 40
   },
   "kernels_config": {
    "python": {
     "delete_cmd_postfix": "",
     "delete_cmd_prefix": "del ",
     "library": "var_list.py",
     "varRefreshCmd": "print(var_dic_list())"
    },
    "r": {
     "delete_cmd_postfix": ") ",
     "delete_cmd_prefix": "rm(",
     "library": "var_list.r",
     "varRefreshCmd": "cat(var_dic_list()) "
    }
   },
   "types_to_exclude": [
    "module",
    "function",
    "builtin_function_or_method",
    "instance",
    "_Feature"
   ],
   "window_display": false
  }
 },
 "nbformat": 4,
 "nbformat_minor": 2
}